{
 "cells": [
  {
   "cell_type": "code",
   "execution_count": 1,
   "metadata": {
    "collapsed": true
   },
   "outputs": [],
   "source": [
    "import numpy as np\n",
    "import pandas as pd\n",
    "import matplotlib.pyplot as plt\n",
    "from sklearn.model_selection import train_test_split\n",
    "from sklearn.metrics import accuracy_score, precision_score, recall_score, f1_score, confusion_matrix\n",
    "from sklearn.metrics import roc_auc_score\n",
    "from sklearn.metrics import roc_curve, auc\n",
    "from sklearn.feature_extraction.text import CountVectorizer\n",
    "from sklearn.feature_extraction.text import TfidfTransformer\n",
    "from sklearn.feature_extraction.text import TfidfVectorizer\n",
    "\n",
    "from imblearn.under_sampling import RandomUnderSampler\n",
    "from imblearn.pipeline import make_pipeline as make_pipeline_imb\n",
    "from imblearn.metrics import classification_report_imbalanced\n",
    "from sklearn.linear_model import LogisticRegression"
   ]
  },
  {
   "cell_type": "code",
   "execution_count": 2,
   "metadata": {
    "collapsed": true
   },
   "outputs": [],
   "source": [
    "def load_data(filename):\n",
    "    \"\"\"\n",
    "    Load data from file in same directory\n",
    "    \n",
    "    Args: \n",
    "        filename: a string \n",
    "    returns: \n",
    "        A pandas dataframe with columns \"comment text\" and \"toxic\"\n",
    "    \"\"\"\n",
    "    columns = ['comment_text', 'toxic', 'severe_toxic', 'obscene', \n",
    "               'threat', 'insult', 'identity_hate']\n",
    "    return pd.read_csv(filename, usecols = columns)"
   ]
  },
  {
   "cell_type": "code",
   "execution_count": null,
   "metadata": {
    "collapsed": true
   },
   "outputs": [],
   "source": [
    "data = load_data(\"train.csv\")"
   ]
  },
  {
   "cell_type": "code",
   "execution_count": null,
   "metadata": {
    "collapsed": true
   },
   "outputs": [],
   "source": [
    "data.head(10)"
   ]
  },
  {
   "cell_type": "code",
   "execution_count": null,
   "metadata": {
    "collapsed": true
   },
   "outputs": [],
   "source": [
    "# separate the data into features (X)\n",
    "# and labels (y), then\n",
    "# split into test/train\n",
    "X = data['comment_text']\n",
    "y = data['toxic', 'severe_toxic', 'obscene', \n",
    "         'threat', 'insult', 'identity_hate']\n",
    "X_train, X_test, y_train, y_test = train_test_split(\n",
    "    X, y, test_size=0.10, random_state=42)"
   ]
  },
  {
   "cell_type": "code",
   "execution_count": null,
   "metadata": {
    "collapsed": true
   },
   "outputs": [],
   "source": [
    "def class_metrics(y_test, y_preds):\n",
    "    \"\"\"\n",
    "    Output the accuracy, precision, recall, and f-score\n",
    "    \n",
    "    Args: \n",
    "        y_test: the array of test labels (0/1)\n",
    "        y_preds: the array of predicted labels \n",
    "    \"\"\"\n",
    "    print('Accuracy score: ', format(accuracy_score(y_test,y_preds)))\n",
    "    print('Precision score: ', format(precision_score(y_test, y_preds)))\n",
    "    print('Recall score: ', format(recall_score(y_test, y_preds)))\n",
    "    print('F1 score: ', format(f1_score(y_test,y_preds)))\n",
    "    \n",
    "def draw_roc(y_test, y_preds):\n",
    "    \"\"\"\n",
    "    Draw the ROC/AUC Curve\n",
    "    \n",
    "    Args: \n",
    "        y_test: the array of test labels (0/1)\n",
    "        y_preds: the array of predicted labels \n",
    "    \"\"\"\n",
    "    fpr, tpr, threshold = roc_curve(y_test, y_preds)\n",
    "    roc_auc = auc(fpr, tpr)\n",
    "    plt.title('Receiver Operating Characteristic')\n",
    "    plt.plot(fpr, tpr, 'b', label = 'AUC = %0.2f' % roc_auc)\n",
    "    plt.legend(loc = 'lower right')\n",
    "    plt.plot([0, 1], [0, 1],'r--')\n",
    "    plt.xlim([0, 1])\n",
    "    plt.ylim([0, 1])\n",
    "    plt.ylabel('True Positive Rate')\n",
    "    plt.xlabel('False Positive Rate')\n",
    "    plt.savefig(\"roc_auc.png\")\n",
    "    plt.show()    "
   ]
  },
  {
   "cell_type": "code",
   "execution_count": null,
   "metadata": {
    "collapsed": true
   },
   "outputs": [],
   "source": [
    "# Form a pipeline of Vectorizer, TFIDF, \n",
    "# Logistic Regression\n",
    "lr_pipe =  Pipeline([('vect', CountVectorizer()),\n",
    "                     ('tfidf', TfidfTransformer()),\n",
    "                     ('clf', LogisticRegression())\n",
    "                      ])\n",
    "# train LR pipeline \n",
    "lr_pipe.fit(X_train, y_train)"
   ]
  },
  {
   "cell_type": "code",
   "execution_count": null,
   "metadata": {
    "collapsed": true
   },
   "outputs": [],
   "source": []
  }
 ],
 "metadata": {
  "kernelspec": {
   "display_name": "Python (MYML)",
   "language": "python",
   "name": "myml"
  },
  "language_info": {
   "codemirror_mode": {
    "name": "ipython",
    "version": 3
   },
   "file_extension": ".py",
   "mimetype": "text/x-python",
   "name": "python",
   "nbconvert_exporter": "python",
   "pygments_lexer": "ipython3",
   "version": "3.6.2"
  }
 },
 "nbformat": 4,
 "nbformat_minor": 2
}
